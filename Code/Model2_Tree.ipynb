{
 "cells": [
  {
   "cell_type": "code",
   "execution_count": 1,
   "id": "2167730e",
   "metadata": {},
   "outputs": [],
   "source": [
    "import pandas as pd\n",
    "import numpy as np"
   ]
  },
  {
   "cell_type": "markdown",
   "id": "eb30843e",
   "metadata": {},
   "source": [
    "# Data Cleaning"
   ]
  },
  {
   "cell_type": "code",
   "execution_count": 2,
   "id": "7c705d66",
   "metadata": {},
   "outputs": [
    {
     "data": {
      "text/html": [
       "<div>\n",
       "<style scoped>\n",
       "    .dataframe tbody tr th:only-of-type {\n",
       "        vertical-align: middle;\n",
       "    }\n",
       "\n",
       "    .dataframe tbody tr th {\n",
       "        vertical-align: top;\n",
       "    }\n",
       "\n",
       "    .dataframe thead th {\n",
       "        text-align: right;\n",
       "    }\n",
       "</style>\n",
       "<table border=\"1\" class=\"dataframe\">\n",
       "  <thead>\n",
       "    <tr style=\"text-align: right;\">\n",
       "      <th></th>\n",
       "      <th>koi_disposition</th>\n",
       "      <th>koi_fpflag_nt</th>\n",
       "      <th>koi_fpflag_ss</th>\n",
       "      <th>koi_fpflag_co</th>\n",
       "      <th>koi_fpflag_ec</th>\n",
       "      <th>koi_period</th>\n",
       "      <th>koi_period_err1</th>\n",
       "      <th>koi_period_err2</th>\n",
       "      <th>koi_time0bk</th>\n",
       "      <th>koi_time0bk_err1</th>\n",
       "      <th>...</th>\n",
       "      <th>koi_steff_err2</th>\n",
       "      <th>koi_slogg</th>\n",
       "      <th>koi_slogg_err1</th>\n",
       "      <th>koi_slogg_err2</th>\n",
       "      <th>koi_srad</th>\n",
       "      <th>koi_srad_err1</th>\n",
       "      <th>koi_srad_err2</th>\n",
       "      <th>ra</th>\n",
       "      <th>dec</th>\n",
       "      <th>koi_kepmag</th>\n",
       "    </tr>\n",
       "  </thead>\n",
       "  <tbody>\n",
       "    <tr>\n",
       "      <th>0</th>\n",
       "      <td>CONFIRMED</td>\n",
       "      <td>0</td>\n",
       "      <td>0</td>\n",
       "      <td>0</td>\n",
       "      <td>0</td>\n",
       "      <td>54.418383</td>\n",
       "      <td>2.479000e-04</td>\n",
       "      <td>-2.479000e-04</td>\n",
       "      <td>162.513840</td>\n",
       "      <td>0.003520</td>\n",
       "      <td>...</td>\n",
       "      <td>-81</td>\n",
       "      <td>4.467</td>\n",
       "      <td>0.064</td>\n",
       "      <td>-0.096</td>\n",
       "      <td>0.927</td>\n",
       "      <td>0.105</td>\n",
       "      <td>-0.061</td>\n",
       "      <td>291.93423</td>\n",
       "      <td>48.141651</td>\n",
       "      <td>15.347</td>\n",
       "    </tr>\n",
       "    <tr>\n",
       "      <th>1</th>\n",
       "      <td>FALSE POSITIVE</td>\n",
       "      <td>0</td>\n",
       "      <td>1</td>\n",
       "      <td>0</td>\n",
       "      <td>0</td>\n",
       "      <td>19.899140</td>\n",
       "      <td>1.490000e-05</td>\n",
       "      <td>-1.490000e-05</td>\n",
       "      <td>175.850252</td>\n",
       "      <td>0.000581</td>\n",
       "      <td>...</td>\n",
       "      <td>-176</td>\n",
       "      <td>4.544</td>\n",
       "      <td>0.044</td>\n",
       "      <td>-0.176</td>\n",
       "      <td>0.868</td>\n",
       "      <td>0.233</td>\n",
       "      <td>-0.078</td>\n",
       "      <td>297.00482</td>\n",
       "      <td>48.134129</td>\n",
       "      <td>15.436</td>\n",
       "    </tr>\n",
       "    <tr>\n",
       "      <th>2</th>\n",
       "      <td>FALSE POSITIVE</td>\n",
       "      <td>0</td>\n",
       "      <td>1</td>\n",
       "      <td>0</td>\n",
       "      <td>0</td>\n",
       "      <td>1.736952</td>\n",
       "      <td>2.630000e-07</td>\n",
       "      <td>-2.630000e-07</td>\n",
       "      <td>170.307565</td>\n",
       "      <td>0.000115</td>\n",
       "      <td>...</td>\n",
       "      <td>-174</td>\n",
       "      <td>4.564</td>\n",
       "      <td>0.053</td>\n",
       "      <td>-0.168</td>\n",
       "      <td>0.791</td>\n",
       "      <td>0.201</td>\n",
       "      <td>-0.067</td>\n",
       "      <td>285.53461</td>\n",
       "      <td>48.285210</td>\n",
       "      <td>15.597</td>\n",
       "    </tr>\n",
       "    <tr>\n",
       "      <th>3</th>\n",
       "      <td>CONFIRMED</td>\n",
       "      <td>0</td>\n",
       "      <td>0</td>\n",
       "      <td>0</td>\n",
       "      <td>0</td>\n",
       "      <td>2.525592</td>\n",
       "      <td>3.760000e-06</td>\n",
       "      <td>-3.760000e-06</td>\n",
       "      <td>171.595550</td>\n",
       "      <td>0.001130</td>\n",
       "      <td>...</td>\n",
       "      <td>-211</td>\n",
       "      <td>4.438</td>\n",
       "      <td>0.070</td>\n",
       "      <td>-0.210</td>\n",
       "      <td>1.046</td>\n",
       "      <td>0.334</td>\n",
       "      <td>-0.133</td>\n",
       "      <td>288.75488</td>\n",
       "      <td>48.226200</td>\n",
       "      <td>15.509</td>\n",
       "    </tr>\n",
       "    <tr>\n",
       "      <th>4</th>\n",
       "      <td>CONFIRMED</td>\n",
       "      <td>0</td>\n",
       "      <td>0</td>\n",
       "      <td>0</td>\n",
       "      <td>0</td>\n",
       "      <td>4.134435</td>\n",
       "      <td>1.050000e-05</td>\n",
       "      <td>-1.050000e-05</td>\n",
       "      <td>172.979370</td>\n",
       "      <td>0.001900</td>\n",
       "      <td>...</td>\n",
       "      <td>-232</td>\n",
       "      <td>4.486</td>\n",
       "      <td>0.054</td>\n",
       "      <td>-0.229</td>\n",
       "      <td>0.972</td>\n",
       "      <td>0.315</td>\n",
       "      <td>-0.105</td>\n",
       "      <td>296.28613</td>\n",
       "      <td>48.224670</td>\n",
       "      <td>15.714</td>\n",
       "    </tr>\n",
       "  </tbody>\n",
       "</table>\n",
       "<p>5 rows × 41 columns</p>\n",
       "</div>"
      ],
      "text/plain": [
       "  koi_disposition  koi_fpflag_nt  koi_fpflag_ss  koi_fpflag_co  koi_fpflag_ec  \\\n",
       "0       CONFIRMED              0              0              0              0   \n",
       "1  FALSE POSITIVE              0              1              0              0   \n",
       "2  FALSE POSITIVE              0              1              0              0   \n",
       "3       CONFIRMED              0              0              0              0   \n",
       "4       CONFIRMED              0              0              0              0   \n",
       "\n",
       "   koi_period  koi_period_err1  koi_period_err2  koi_time0bk  \\\n",
       "0   54.418383     2.479000e-04    -2.479000e-04   162.513840   \n",
       "1   19.899140     1.490000e-05    -1.490000e-05   175.850252   \n",
       "2    1.736952     2.630000e-07    -2.630000e-07   170.307565   \n",
       "3    2.525592     3.760000e-06    -3.760000e-06   171.595550   \n",
       "4    4.134435     1.050000e-05    -1.050000e-05   172.979370   \n",
       "\n",
       "   koi_time0bk_err1  ...  koi_steff_err2  koi_slogg  koi_slogg_err1  \\\n",
       "0          0.003520  ...             -81      4.467           0.064   \n",
       "1          0.000581  ...            -176      4.544           0.044   \n",
       "2          0.000115  ...            -174      4.564           0.053   \n",
       "3          0.001130  ...            -211      4.438           0.070   \n",
       "4          0.001900  ...            -232      4.486           0.054   \n",
       "\n",
       "   koi_slogg_err2  koi_srad  koi_srad_err1  koi_srad_err2         ra  \\\n",
       "0          -0.096     0.927          0.105         -0.061  291.93423   \n",
       "1          -0.176     0.868          0.233         -0.078  297.00482   \n",
       "2          -0.168     0.791          0.201         -0.067  285.53461   \n",
       "3          -0.210     1.046          0.334         -0.133  288.75488   \n",
       "4          -0.229     0.972          0.315         -0.105  296.28613   \n",
       "\n",
       "         dec  koi_kepmag  \n",
       "0  48.141651      15.347  \n",
       "1  48.134129      15.436  \n",
       "2  48.285210      15.597  \n",
       "3  48.226200      15.509  \n",
       "4  48.224670      15.714  \n",
       "\n",
       "[5 rows x 41 columns]"
      ]
     },
     "execution_count": 2,
     "metadata": {},
     "output_type": "execute_result"
    }
   ],
   "source": [
    "#Reading csv and datacleanup\n",
    "df = pd.read_csv(\"exoplanet_data.csv\")\n",
    "# Drop the null columns where all values are null\n",
    "df = df.dropna(axis='columns', how='all')\n",
    "# Drop the null rows\n",
    "df = df.dropna()\n",
    "df.head()"
   ]
  },
  {
   "cell_type": "code",
   "execution_count": 3,
   "id": "f0d9ed59",
   "metadata": {},
   "outputs": [],
   "source": [
    "# Set features to be used as x values.\n",
    "target = df['koi_disposition']\n",
    "data = df.drop('koi_disposition', axis=1)\n",
    "features = data.columns"
   ]
  },
  {
   "cell_type": "code",
   "execution_count": 4,
   "id": "ba042138",
   "metadata": {},
   "outputs": [],
   "source": [
    "#create train test split\n",
    "from sklearn.model_selection import train_test_split\n",
    "\n",
    "X_train, X_test, y_train, y_test = train_test_split(data, target, random_state=1)"
   ]
  },
  {
   "cell_type": "code",
   "execution_count": 5,
   "id": "eb480cdf",
   "metadata": {},
   "outputs": [],
   "source": [
    "from sklearn.preprocessing import MinMaxScaler\n",
    "\n",
    "# Scale your data\n",
    "X_scaler = MinMaxScaler().fit(X_train)\n",
    "\n",
    "#Transformation\n",
    "X_train_scaled = X_scaler.transform(X_train)\n",
    "X_test_scaled = X_scaler.transform(X_test)"
   ]
  },
  {
   "cell_type": "markdown",
   "id": "0c31bc8d",
   "metadata": {},
   "source": [
    "# Decision Tree"
   ]
  },
  {
   "cell_type": "code",
   "execution_count": 6,
   "id": "d0ff5044",
   "metadata": {},
   "outputs": [],
   "source": [
    "from sklearn import tree"
   ]
  },
  {
   "cell_type": "code",
   "execution_count": 7,
   "id": "9031af24",
   "metadata": {},
   "outputs": [
    {
     "data": {
      "text/plain": [
       "0.8627002288329519"
      ]
     },
     "execution_count": 7,
     "metadata": {},
     "output_type": "execute_result"
    }
   ],
   "source": [
    "#Fitting Decision Tree model to the data\n",
    "tree_classifier = tree.DecisionTreeClassifier()\n",
    "tree_classifier = tree_classifier.fit(X_train, y_train)\n",
    "tree_classifier.score(X_test, y_test)"
   ]
  },
  {
   "cell_type": "code",
   "execution_count": 8,
   "id": "e2b59bfa",
   "metadata": {},
   "outputs": [
    {
     "data": {
      "text/plain": [
       "0.9136155606407322"
      ]
     },
     "execution_count": 8,
     "metadata": {},
     "output_type": "execute_result"
    }
   ],
   "source": [
    "#Trying the Random Forest Classifier\n",
    "from sklearn.ensemble import RandomForestClassifier\n",
    "\n",
    "rfc = RandomForestClassifier(n_estimators=200)\n",
    "rfc = rfc.fit(X_train, y_train)\n",
    "rfc.score(X_test, y_test)"
   ]
  },
  {
   "cell_type": "code",
   "execution_count": 9,
   "id": "77d4f569",
   "metadata": {},
   "outputs": [
    {
     "data": {
      "text/plain": [
       "[(0.10755836879240796, 'koi_fpflag_co'),\n",
       " (0.09247902470356513, 'koi_fpflag_nt'),\n",
       " (0.07077617672369539, 'koi_fpflag_ss'),\n",
       " (0.054782538741159445, 'koi_model_snr'),\n",
       " (0.042664201719678066, 'koi_prad'),\n",
       " (0.03989660219514484, 'koi_prad_err1'),\n",
       " (0.037394247424166124, 'koi_prad_err2'),\n",
       " (0.036076205664044354, 'koi_fpflag_ec'),\n",
       " (0.03478384350834832, 'koi_duration_err1'),\n",
       " (0.03119082804629846, 'koi_duration_err2'),\n",
       " (0.029442461497683117, 'koi_steff_err1'),\n",
       " (0.029438161926432217, 'koi_steff_err2'),\n",
       " (0.022952656053516752, 'koi_duration'),\n",
       " (0.022399835447645473, 'koi_time0bk_err2'),\n",
       " (0.02223927359771292, 'koi_period'),\n",
       " (0.02165923045912524, 'koi_time0bk_err1'),\n",
       " (0.01891090911885153, 'koi_depth'),\n",
       " (0.01836159659705854, 'koi_period_err1'),\n",
       " (0.0181852784432144, 'koi_insol_err1'),\n",
       " (0.017214002803901774, 'koi_impact'),\n",
       " (0.016647517967579507, 'koi_insol'),\n",
       " (0.01577161777239071, 'koi_teq'),\n",
       " (0.015467487060657165, 'koi_period_err2'),\n",
       " (0.01446771506433736, 'koi_time0bk'),\n",
       " (0.01441292004145598, 'koi_insol_err2'),\n",
       " (0.014329707482999957, 'koi_depth_err1'),\n",
       " (0.013397412945476132, 'koi_depth_err2'),\n",
       " (0.012952415385274627, 'ra'),\n",
       " (0.011585290961961784, 'dec'),\n",
       " (0.011160648077425013, 'koi_srad_err1'),\n",
       " (0.010811708464228641, 'koi_kepmag'),\n",
       " (0.01080784789884903, 'koi_impact_err2'),\n",
       " (0.010651754690493849, 'koi_impact_err1'),\n",
       " (0.010199227292463591, 'koi_slogg_err2'),\n",
       " (0.009488540358717292, 'koi_slogg_err1'),\n",
       " (0.00909868663075821, 'koi_slogg'),\n",
       " (0.009082275207028647, 'koi_srad'),\n",
       " (0.00904454882591675, 'koi_steff'),\n",
       " (0.008861169678996288, 'koi_srad_err2'),\n",
       " (0.0033560647293394267, 'koi_tce_plnt_num')]"
      ]
     },
     "execution_count": 9,
     "metadata": {},
     "output_type": "execute_result"
    }
   ],
   "source": [
    "#Scoring Features using the Random Forest Classifier\n",
    "sorted(zip(rfc.feature_importances_, features), reverse=True)"
   ]
  },
  {
   "cell_type": "markdown",
   "id": "f0613070",
   "metadata": {},
   "source": [
    "# Utilization of Grid Search to find best parameters"
   ]
  },
  {
   "cell_type": "code",
   "execution_count": 10,
   "id": "6d8f611b",
   "metadata": {},
   "outputs": [],
   "source": [
    "from sklearn.model_selection import GridSearchCV\n",
    "\n",
    "param_grid = {\n",
    "    'max_depth': [i for i in range(4, 20)]\n",
    "}\n",
    "\n",
    "#param_grid['depths']"
   ]
  },
  {
   "cell_type": "code",
   "execution_count": 11,
   "id": "dca8df2d",
   "metadata": {},
   "outputs": [],
   "source": [
    "grid = GridSearchCV(tree_classifier, param_grid, verbose=3)"
   ]
  },
  {
   "cell_type": "code",
   "execution_count": 12,
   "id": "d1f449fa",
   "metadata": {},
   "outputs": [
    {
     "name": "stdout",
     "output_type": "stream",
     "text": [
      "Fitting 5 folds for each of 16 candidates, totalling 80 fits\n",
      "[CV 1/5] END ....................................max_depth=4; total time=   0.1s\n",
      "[CV 2/5] END ....................................max_depth=4; total time=   0.1s\n",
      "[CV 3/5] END ....................................max_depth=4; total time=   0.1s\n",
      "[CV 4/5] END ....................................max_depth=4; total time=   0.1s\n",
      "[CV 5/5] END ....................................max_depth=4; total time=   0.2s\n",
      "[CV 1/5] END ....................................max_depth=5; total time=   0.1s\n",
      "[CV 2/5] END ....................................max_depth=5; total time=   0.1s\n",
      "[CV 3/5] END ....................................max_depth=5; total time=   0.1s\n",
      "[CV 4/5] END ....................................max_depth=5; total time=   0.1s\n",
      "[CV 5/5] END ....................................max_depth=5; total time=   0.1s\n",
      "[CV 1/5] END ....................................max_depth=6; total time=   0.1s\n",
      "[CV 2/5] END ....................................max_depth=6; total time=   0.2s\n",
      "[CV 3/5] END ....................................max_depth=6; total time=   0.1s\n",
      "[CV 4/5] END ....................................max_depth=6; total time=   0.1s\n",
      "[CV 5/5] END ....................................max_depth=6; total time=   0.1s\n",
      "[CV 1/5] END ....................................max_depth=7; total time=   0.2s\n",
      "[CV 2/5] END ....................................max_depth=7; total time=   0.1s\n",
      "[CV 3/5] END ....................................max_depth=7; total time=   0.2s\n",
      "[CV 4/5] END ....................................max_depth=7; total time=   0.1s\n",
      "[CV 5/5] END ....................................max_depth=7; total time=   0.4s\n",
      "[CV 1/5] END ....................................max_depth=8; total time=   0.2s\n",
      "[CV 2/5] END ....................................max_depth=8; total time=   0.3s\n",
      "[CV 3/5] END ....................................max_depth=8; total time=   0.1s\n",
      "[CV 4/5] END ....................................max_depth=8; total time=   0.1s\n",
      "[CV 5/5] END ....................................max_depth=8; total time=   0.2s\n",
      "[CV 1/5] END ....................................max_depth=9; total time=   0.2s\n",
      "[CV 2/5] END ....................................max_depth=9; total time=   0.1s\n",
      "[CV 3/5] END ....................................max_depth=9; total time=   0.2s\n",
      "[CV 4/5] END ....................................max_depth=9; total time=   0.1s\n",
      "[CV 5/5] END ....................................max_depth=9; total time=   0.2s\n",
      "[CV 1/5] END ...................................max_depth=10; total time=   0.8s\n",
      "[CV 2/5] END ...................................max_depth=10; total time=   0.6s\n",
      "[CV 3/5] END ...................................max_depth=10; total time=   0.2s\n",
      "[CV 4/5] END ...................................max_depth=10; total time=   0.2s\n",
      "[CV 5/5] END ...................................max_depth=10; total time=   0.2s\n",
      "[CV 1/5] END ...................................max_depth=11; total time=   0.2s\n",
      "[CV 2/5] END ...................................max_depth=11; total time=   0.2s\n",
      "[CV 3/5] END ...................................max_depth=11; total time=   0.2s\n",
      "[CV 4/5] END ...................................max_depth=11; total time=   0.2s\n",
      "[CV 5/5] END ...................................max_depth=11; total time=   0.2s\n",
      "[CV 1/5] END ...................................max_depth=12; total time=   0.1s\n",
      "[CV 2/5] END ...................................max_depth=12; total time=   0.2s\n",
      "[CV 3/5] END ...................................max_depth=12; total time=   0.2s\n",
      "[CV 4/5] END ...................................max_depth=12; total time=   0.2s\n",
      "[CV 5/5] END ...................................max_depth=12; total time=   0.2s\n",
      "[CV 1/5] END ...................................max_depth=13; total time=   0.6s\n",
      "[CV 2/5] END ...................................max_depth=13; total time=   0.3s\n",
      "[CV 3/5] END ...................................max_depth=13; total time=   0.2s\n",
      "[CV 4/5] END ...................................max_depth=13; total time=   0.2s\n",
      "[CV 5/5] END ...................................max_depth=13; total time=   0.2s\n",
      "[CV 1/5] END ...................................max_depth=14; total time=   0.5s\n",
      "[CV 2/5] END ...................................max_depth=14; total time=   0.5s\n",
      "[CV 3/5] END ...................................max_depth=14; total time=   0.3s\n",
      "[CV 4/5] END ...................................max_depth=14; total time=   0.4s\n",
      "[CV 5/5] END ...................................max_depth=14; total time=   0.4s\n",
      "[CV 1/5] END ...................................max_depth=15; total time=   0.2s\n",
      "[CV 2/5] END ...................................max_depth=15; total time=   0.2s\n",
      "[CV 3/5] END ...................................max_depth=15; total time=   0.2s\n",
      "[CV 4/5] END ...................................max_depth=15; total time=   0.2s\n",
      "[CV 5/5] END ...................................max_depth=15; total time=   0.2s\n",
      "[CV 1/5] END ...................................max_depth=16; total time=   0.2s\n",
      "[CV 2/5] END ...................................max_depth=16; total time=   0.2s\n",
      "[CV 3/5] END ...................................max_depth=16; total time=   0.3s\n",
      "[CV 4/5] END ...................................max_depth=16; total time=   0.5s\n",
      "[CV 5/5] END ...................................max_depth=16; total time=   1.1s\n",
      "[CV 1/5] END ...................................max_depth=17; total time=   0.2s\n",
      "[CV 2/5] END ...................................max_depth=17; total time=   0.3s\n",
      "[CV 3/5] END ...................................max_depth=17; total time=   0.2s\n",
      "[CV 4/5] END ...................................max_depth=17; total time=   0.2s\n",
      "[CV 5/5] END ...................................max_depth=17; total time=   0.2s\n",
      "[CV 1/5] END ...................................max_depth=18; total time=   0.2s\n",
      "[CV 2/5] END ...................................max_depth=18; total time=   0.2s\n",
      "[CV 3/5] END ...................................max_depth=18; total time=   0.2s\n",
      "[CV 4/5] END ...................................max_depth=18; total time=   0.2s\n",
      "[CV 5/5] END ...................................max_depth=18; total time=   0.9s\n",
      "[CV 1/5] END ...................................max_depth=19; total time=   0.3s\n",
      "[CV 2/5] END ...................................max_depth=19; total time=   0.2s\n",
      "[CV 3/5] END ...................................max_depth=19; total time=   0.3s\n",
      "[CV 4/5] END ...................................max_depth=19; total time=   0.3s\n",
      "[CV 5/5] END ...................................max_depth=19; total time=   0.2s\n"
     ]
    },
    {
     "data": {
      "text/plain": [
       "GridSearchCV(estimator=DecisionTreeClassifier(),\n",
       "             param_grid={'max_depth': [4, 5, 6, 7, 8, 9, 10, 11, 12, 13, 14, 15,\n",
       "                                       16, 17, 18, 19]},\n",
       "             verbose=3)"
      ]
     },
     "execution_count": 12,
     "metadata": {},
     "output_type": "execute_result"
    }
   ],
   "source": [
    "grid.fit(X_train_scaled, y_train)"
   ]
  },
  {
   "cell_type": "code",
   "execution_count": 13,
   "id": "a4cff18f",
   "metadata": {},
   "outputs": [
    {
     "name": "stdout",
     "output_type": "stream",
     "text": [
      "{'max_depth': 6}\n"
     ]
    }
   ],
   "source": [
    "# List the best parameters for this datase\n",
    "print(grid.best_params_)"
   ]
  },
  {
   "cell_type": "code",
   "execution_count": 14,
   "id": "37393778",
   "metadata": {},
   "outputs": [
    {
     "name": "stdout",
     "output_type": "stream",
     "text": [
      "0.8806022093014795\n"
     ]
    }
   ],
   "source": [
    "# List the best score\n",
    "print(grid.best_score_)"
   ]
  },
  {
   "cell_type": "code",
   "execution_count": 24,
   "id": "bea192ec",
   "metadata": {},
   "outputs": [],
   "source": [
    "#Grid Search for Random Forest\n",
    "\n",
    "param_grid = {\n",
    "    'max_depth': [i for i in range(9, 12)],\n",
    "    'n_estimators': [i for i in range(205, 215) if i % 2 == 0]\n",
    "}\n"
   ]
  },
  {
   "cell_type": "code",
   "execution_count": 25,
   "id": "507aefb8",
   "metadata": {},
   "outputs": [],
   "source": [
    "grid = GridSearchCV(rfc, param_grid, verbose=3)"
   ]
  },
  {
   "cell_type": "code",
   "execution_count": 26,
   "id": "d7fec087",
   "metadata": {},
   "outputs": [
    {
     "name": "stdout",
     "output_type": "stream",
     "text": [
      "Fitting 5 folds for each of 15 candidates, totalling 75 fits\n",
      "[CV 1/5] END ..................max_depth=9, n_estimators=206; total time=   6.7s\n",
      "[CV 2/5] END ..................max_depth=9, n_estimators=206; total time=   6.2s\n",
      "[CV 3/5] END ..................max_depth=9, n_estimators=206; total time=   4.1s\n",
      "[CV 4/5] END ..................max_depth=9, n_estimators=206; total time=   5.0s\n",
      "[CV 5/5] END ..................max_depth=9, n_estimators=206; total time=   4.0s\n",
      "[CV 1/5] END ..................max_depth=9, n_estimators=208; total time=   3.1s\n",
      "[CV 2/5] END ..................max_depth=9, n_estimators=208; total time=   3.0s\n",
      "[CV 3/5] END ..................max_depth=9, n_estimators=208; total time=   3.2s\n",
      "[CV 4/5] END ..................max_depth=9, n_estimators=208; total time=   3.2s\n",
      "[CV 5/5] END ..................max_depth=9, n_estimators=208; total time=   3.4s\n",
      "[CV 1/5] END ..................max_depth=9, n_estimators=210; total time=   3.1s\n",
      "[CV 2/5] END ..................max_depth=9, n_estimators=210; total time=   3.5s\n",
      "[CV 3/5] END ..................max_depth=9, n_estimators=210; total time=   3.4s\n",
      "[CV 4/5] END ..................max_depth=9, n_estimators=210; total time=   3.3s\n",
      "[CV 5/5] END ..................max_depth=9, n_estimators=210; total time=   3.3s\n",
      "[CV 1/5] END ..................max_depth=9, n_estimators=212; total time=   3.3s\n",
      "[CV 2/5] END ..................max_depth=9, n_estimators=212; total time=   3.4s\n",
      "[CV 3/5] END ..................max_depth=9, n_estimators=212; total time=   3.4s\n",
      "[CV 4/5] END ..................max_depth=9, n_estimators=212; total time=   3.2s\n",
      "[CV 5/5] END ..................max_depth=9, n_estimators=212; total time=   5.6s\n",
      "[CV 1/5] END ..................max_depth=9, n_estimators=214; total time=   4.4s\n",
      "[CV 2/5] END ..................max_depth=9, n_estimators=214; total time=   3.8s\n",
      "[CV 3/5] END ..................max_depth=9, n_estimators=214; total time=   4.4s\n",
      "[CV 4/5] END ..................max_depth=9, n_estimators=214; total time=   3.4s\n",
      "[CV 5/5] END ..................max_depth=9, n_estimators=214; total time=   3.4s\n",
      "[CV 1/5] END .................max_depth=10, n_estimators=206; total time=   3.4s\n",
      "[CV 2/5] END .................max_depth=10, n_estimators=206; total time=   3.4s\n",
      "[CV 3/5] END .................max_depth=10, n_estimators=206; total time=   3.6s\n",
      "[CV 4/5] END .................max_depth=10, n_estimators=206; total time=   3.4s\n",
      "[CV 5/5] END .................max_depth=10, n_estimators=206; total time=   3.4s\n",
      "[CV 1/5] END .................max_depth=10, n_estimators=208; total time=   3.3s\n",
      "[CV 2/5] END .................max_depth=10, n_estimators=208; total time=   3.3s\n",
      "[CV 3/5] END .................max_depth=10, n_estimators=208; total time=   3.4s\n",
      "[CV 4/5] END .................max_depth=10, n_estimators=208; total time=   3.4s\n",
      "[CV 5/5] END .................max_depth=10, n_estimators=208; total time=   3.5s\n",
      "[CV 1/5] END .................max_depth=10, n_estimators=210; total time=   3.6s\n",
      "[CV 2/5] END .................max_depth=10, n_estimators=210; total time=   3.7s\n",
      "[CV 3/5] END .................max_depth=10, n_estimators=210; total time=   3.7s\n",
      "[CV 4/5] END .................max_depth=10, n_estimators=210; total time=   3.5s\n",
      "[CV 5/5] END .................max_depth=10, n_estimators=210; total time=   3.5s\n",
      "[CV 1/5] END .................max_depth=10, n_estimators=212; total time=   5.1s\n",
      "[CV 2/5] END .................max_depth=10, n_estimators=212; total time=   6.2s\n",
      "[CV 3/5] END .................max_depth=10, n_estimators=212; total time=   4.9s\n",
      "[CV 4/5] END .................max_depth=10, n_estimators=212; total time=   3.4s\n",
      "[CV 5/5] END .................max_depth=10, n_estimators=212; total time=   3.4s\n",
      "[CV 1/5] END .................max_depth=10, n_estimators=214; total time=   4.1s\n",
      "[CV 2/5] END .................max_depth=10, n_estimators=214; total time=   3.9s\n",
      "[CV 3/5] END .................max_depth=10, n_estimators=214; total time=   4.4s\n",
      "[CV 4/5] END .................max_depth=10, n_estimators=214; total time=   3.7s\n",
      "[CV 5/5] END .................max_depth=10, n_estimators=214; total time=   4.3s\n",
      "[CV 1/5] END .................max_depth=11, n_estimators=206; total time=   4.5s\n",
      "[CV 2/5] END .................max_depth=11, n_estimators=206; total time=   8.6s\n",
      "[CV 3/5] END .................max_depth=11, n_estimators=206; total time=   7.9s\n",
      "[CV 4/5] END .................max_depth=11, n_estimators=206; total time=   4.9s\n",
      "[CV 5/5] END .................max_depth=11, n_estimators=206; total time=   3.4s\n",
      "[CV 1/5] END .................max_depth=11, n_estimators=208; total time=   6.4s\n",
      "[CV 2/5] END .................max_depth=11, n_estimators=208; total time=   5.9s\n",
      "[CV 3/5] END .................max_depth=11, n_estimators=208; total time=   9.1s\n",
      "[CV 4/5] END .................max_depth=11, n_estimators=208; total time=  11.4s\n",
      "[CV 5/5] END .................max_depth=11, n_estimators=208; total time=   9.6s\n",
      "[CV 1/5] END .................max_depth=11, n_estimators=210; total time=   4.4s\n",
      "[CV 2/5] END .................max_depth=11, n_estimators=210; total time=   7.0s\n",
      "[CV 3/5] END .................max_depth=11, n_estimators=210; total time=   4.8s\n",
      "[CV 4/5] END .................max_depth=11, n_estimators=210; total time=   5.5s\n",
      "[CV 5/5] END .................max_depth=11, n_estimators=210; total time=   6.1s\n",
      "[CV 1/5] END .................max_depth=11, n_estimators=212; total time=   9.8s\n",
      "[CV 2/5] END .................max_depth=11, n_estimators=212; total time=  11.5s\n",
      "[CV 3/5] END .................max_depth=11, n_estimators=212; total time=   5.8s\n",
      "[CV 4/5] END .................max_depth=11, n_estimators=212; total time=   3.9s\n",
      "[CV 5/5] END .................max_depth=11, n_estimators=212; total time=   5.6s\n",
      "[CV 1/5] END .................max_depth=11, n_estimators=214; total time=   3.7s\n",
      "[CV 2/5] END .................max_depth=11, n_estimators=214; total time=   3.5s\n",
      "[CV 3/5] END .................max_depth=11, n_estimators=214; total time=   3.4s\n",
      "[CV 4/5] END .................max_depth=11, n_estimators=214; total time=   3.3s\n",
      "[CV 5/5] END .................max_depth=11, n_estimators=214; total time=   3.4s\n"
     ]
    },
    {
     "data": {
      "text/plain": [
       "GridSearchCV(estimator=RandomForestClassifier(n_estimators=200),\n",
       "             param_grid={'max_depth': [9, 10, 11],\n",
       "                         'n_estimators': [206, 208, 210, 212, 214]},\n",
       "             verbose=3)"
      ]
     },
     "execution_count": 26,
     "metadata": {},
     "output_type": "execute_result"
    }
   ],
   "source": [
    "grid.fit(X_train_scaled, y_train)"
   ]
  },
  {
   "cell_type": "code",
   "execution_count": 27,
   "id": "a6fcc54d",
   "metadata": {},
   "outputs": [
    {
     "name": "stdout",
     "output_type": "stream",
     "text": [
      "{'max_depth': 11, 'n_estimators': 214}\n"
     ]
    }
   ],
   "source": [
    "# List the best parameters for this datase\n",
    "print(grid.best_params_)"
   ]
  },
  {
   "cell_type": "code",
   "execution_count": 28,
   "id": "5bbf21de",
   "metadata": {},
   "outputs": [
    {
     "name": "stdout",
     "output_type": "stream",
     "text": [
      "0.8863228520073643\n"
     ]
    }
   ],
   "source": [
    "print(grid.best_score_)"
   ]
  },
  {
   "cell_type": "code",
   "execution_count": 33,
   "id": "0cd9be5a",
   "metadata": {},
   "outputs": [],
   "source": [
    "#Grid Search for Random Forest\n",
    "\n",
    "param_grid = {\n",
    "    'max_depth': [i for i in range(15, 25)],\n",
    "    'n_estimators': [214]\n",
    "}\n"
   ]
  },
  {
   "cell_type": "code",
   "execution_count": 34,
   "id": "795b9d9a",
   "metadata": {},
   "outputs": [
    {
     "name": "stdout",
     "output_type": "stream",
     "text": [
      "Fitting 5 folds for each of 10 candidates, totalling 50 fits\n",
      "[CV 1/5] END .................max_depth=15, n_estimators=214; total time=   3.0s\n",
      "[CV 2/5] END .................max_depth=15, n_estimators=214; total time=   2.9s\n",
      "[CV 3/5] END .................max_depth=15, n_estimators=214; total time=   2.9s\n",
      "[CV 4/5] END .................max_depth=15, n_estimators=214; total time=   3.0s\n",
      "[CV 5/5] END .................max_depth=15, n_estimators=214; total time=   3.4s\n",
      "[CV 1/5] END .................max_depth=16, n_estimators=214; total time=   2.9s\n",
      "[CV 2/5] END .................max_depth=16, n_estimators=214; total time=   3.2s\n",
      "[CV 3/5] END .................max_depth=16, n_estimators=214; total time=   3.1s\n",
      "[CV 4/5] END .................max_depth=16, n_estimators=214; total time=   2.9s\n",
      "[CV 5/5] END .................max_depth=16, n_estimators=214; total time=   3.0s\n",
      "[CV 1/5] END .................max_depth=17, n_estimators=214; total time=   2.9s\n",
      "[CV 2/5] END .................max_depth=17, n_estimators=214; total time=   3.0s\n",
      "[CV 3/5] END .................max_depth=17, n_estimators=214; total time=   3.0s\n",
      "[CV 4/5] END .................max_depth=17, n_estimators=214; total time=   3.0s\n",
      "[CV 5/5] END .................max_depth=17, n_estimators=214; total time=   3.1s\n",
      "[CV 1/5] END .................max_depth=18, n_estimators=214; total time=   2.9s\n",
      "[CV 2/5] END .................max_depth=18, n_estimators=214; total time=   3.0s\n",
      "[CV 3/5] END .................max_depth=18, n_estimators=214; total time=   3.0s\n",
      "[CV 4/5] END .................max_depth=18, n_estimators=214; total time=   2.9s\n",
      "[CV 5/5] END .................max_depth=18, n_estimators=214; total time=   2.9s\n",
      "[CV 1/5] END .................max_depth=19, n_estimators=214; total time=   3.0s\n",
      "[CV 2/5] END .................max_depth=19, n_estimators=214; total time=   2.9s\n",
      "[CV 3/5] END .................max_depth=19, n_estimators=214; total time=   2.9s\n",
      "[CV 4/5] END .................max_depth=19, n_estimators=214; total time=   3.0s\n",
      "[CV 5/5] END .................max_depth=19, n_estimators=214; total time=   3.1s\n",
      "[CV 1/5] END .................max_depth=20, n_estimators=214; total time=   3.0s\n",
      "[CV 2/5] END .................max_depth=20, n_estimators=214; total time=   3.2s\n",
      "[CV 3/5] END .................max_depth=20, n_estimators=214; total time=   3.1s\n",
      "[CV 4/5] END .................max_depth=20, n_estimators=214; total time=   3.1s\n",
      "[CV 5/5] END .................max_depth=20, n_estimators=214; total time=   2.9s\n",
      "[CV 1/5] END .................max_depth=21, n_estimators=214; total time=   3.0s\n",
      "[CV 2/5] END .................max_depth=21, n_estimators=214; total time=   3.0s\n",
      "[CV 3/5] END .................max_depth=21, n_estimators=214; total time=   3.0s\n",
      "[CV 4/5] END .................max_depth=21, n_estimators=214; total time=   2.9s\n",
      "[CV 5/5] END .................max_depth=21, n_estimators=214; total time=   3.2s\n",
      "[CV 1/5] END .................max_depth=22, n_estimators=214; total time=   3.1s\n",
      "[CV 2/5] END .................max_depth=22, n_estimators=214; total time=   3.0s\n",
      "[CV 3/5] END .................max_depth=22, n_estimators=214; total time=   3.1s\n",
      "[CV 4/5] END .................max_depth=22, n_estimators=214; total time=   3.1s\n",
      "[CV 5/5] END .................max_depth=22, n_estimators=214; total time=   3.1s\n",
      "[CV 1/5] END .................max_depth=23, n_estimators=214; total time=   3.0s\n",
      "[CV 2/5] END .................max_depth=23, n_estimators=214; total time=   3.0s\n",
      "[CV 3/5] END .................max_depth=23, n_estimators=214; total time=   3.1s\n",
      "[CV 4/5] END .................max_depth=23, n_estimators=214; total time=   3.0s\n",
      "[CV 5/5] END .................max_depth=23, n_estimators=214; total time=   3.0s\n",
      "[CV 1/5] END .................max_depth=24, n_estimators=214; total time=   3.1s\n",
      "[CV 2/5] END .................max_depth=24, n_estimators=214; total time=   3.1s\n",
      "[CV 3/5] END .................max_depth=24, n_estimators=214; total time=   3.0s\n",
      "[CV 4/5] END .................max_depth=24, n_estimators=214; total time=   3.1s\n",
      "[CV 5/5] END .................max_depth=24, n_estimators=214; total time=   3.0s\n"
     ]
    },
    {
     "data": {
      "text/plain": [
       "GridSearchCV(estimator=RandomForestClassifier(n_estimators=200),\n",
       "             param_grid={'max_depth': [15, 16, 17, 18, 19, 20, 21, 22, 23, 24],\n",
       "                         'n_estimators': [214]},\n",
       "             verbose=3)"
      ]
     },
     "execution_count": 34,
     "metadata": {},
     "output_type": "execute_result"
    }
   ],
   "source": [
    "grid = GridSearchCV(rfc, param_grid, verbose=3)\n",
    "grid.fit(X_train_scaled, y_train)"
   ]
  },
  {
   "cell_type": "code",
   "execution_count": 35,
   "id": "7d9b3e79",
   "metadata": {},
   "outputs": [
    {
     "name": "stdout",
     "output_type": "stream",
     "text": [
      "{'max_depth': 19, 'n_estimators': 214}\n"
     ]
    }
   ],
   "source": [
    "# List the best parameters for this datase\n",
    "print(grid.best_params_)"
   ]
  },
  {
   "cell_type": "code",
   "execution_count": 36,
   "id": "aa8599fc",
   "metadata": {},
   "outputs": [
    {
     "name": "stdout",
     "output_type": "stream",
     "text": [
      "0.8912819551881471\n"
     ]
    }
   ],
   "source": [
    "print(grid.best_score_)"
   ]
  },
  {
   "cell_type": "code",
   "execution_count": null,
   "id": "421b1d68",
   "metadata": {},
   "outputs": [],
   "source": []
  }
 ],
 "metadata": {
  "kernelspec": {
   "display_name": "Python 3",
   "language": "python",
   "name": "python3"
  },
  "language_info": {
   "codemirror_mode": {
    "name": "ipython",
    "version": 3
   },
   "file_extension": ".py",
   "mimetype": "text/x-python",
   "name": "python",
   "nbconvert_exporter": "python",
   "pygments_lexer": "ipython3",
   "version": "3.6.13"
  }
 },
 "nbformat": 4,
 "nbformat_minor": 5
}
