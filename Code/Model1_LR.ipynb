{
 "cells": [
  {
   "cell_type": "code",
   "execution_count": 1,
   "id": "3e8db023",
   "metadata": {},
   "outputs": [],
   "source": [
    "import pandas as pd\n",
    "import numpy as np"
   ]
  },
  {
   "cell_type": "markdown",
   "id": "2ba9b3cd",
   "metadata": {},
   "source": [
    "# Data Cleaning"
   ]
  },
  {
   "cell_type": "code",
   "execution_count": 2,
   "id": "a8480a3c",
   "metadata": {},
   "outputs": [
    {
     "data": {
      "text/html": [
       "<div>\n",
       "<style scoped>\n",
       "    .dataframe tbody tr th:only-of-type {\n",
       "        vertical-align: middle;\n",
       "    }\n",
       "\n",
       "    .dataframe tbody tr th {\n",
       "        vertical-align: top;\n",
       "    }\n",
       "\n",
       "    .dataframe thead th {\n",
       "        text-align: right;\n",
       "    }\n",
       "</style>\n",
       "<table border=\"1\" class=\"dataframe\">\n",
       "  <thead>\n",
       "    <tr style=\"text-align: right;\">\n",
       "      <th></th>\n",
       "      <th>koi_disposition</th>\n",
       "      <th>koi_fpflag_nt</th>\n",
       "      <th>koi_fpflag_ss</th>\n",
       "      <th>koi_fpflag_co</th>\n",
       "      <th>koi_fpflag_ec</th>\n",
       "      <th>koi_period</th>\n",
       "      <th>koi_period_err1</th>\n",
       "      <th>koi_period_err2</th>\n",
       "      <th>koi_time0bk</th>\n",
       "      <th>koi_time0bk_err1</th>\n",
       "      <th>...</th>\n",
       "      <th>koi_steff_err2</th>\n",
       "      <th>koi_slogg</th>\n",
       "      <th>koi_slogg_err1</th>\n",
       "      <th>koi_slogg_err2</th>\n",
       "      <th>koi_srad</th>\n",
       "      <th>koi_srad_err1</th>\n",
       "      <th>koi_srad_err2</th>\n",
       "      <th>ra</th>\n",
       "      <th>dec</th>\n",
       "      <th>koi_kepmag</th>\n",
       "    </tr>\n",
       "  </thead>\n",
       "  <tbody>\n",
       "    <tr>\n",
       "      <th>0</th>\n",
       "      <td>CONFIRMED</td>\n",
       "      <td>0</td>\n",
       "      <td>0</td>\n",
       "      <td>0</td>\n",
       "      <td>0</td>\n",
       "      <td>54.418383</td>\n",
       "      <td>2.479000e-04</td>\n",
       "      <td>-2.479000e-04</td>\n",
       "      <td>162.513840</td>\n",
       "      <td>0.003520</td>\n",
       "      <td>...</td>\n",
       "      <td>-81</td>\n",
       "      <td>4.467</td>\n",
       "      <td>0.064</td>\n",
       "      <td>-0.096</td>\n",
       "      <td>0.927</td>\n",
       "      <td>0.105</td>\n",
       "      <td>-0.061</td>\n",
       "      <td>291.93423</td>\n",
       "      <td>48.141651</td>\n",
       "      <td>15.347</td>\n",
       "    </tr>\n",
       "    <tr>\n",
       "      <th>1</th>\n",
       "      <td>FALSE POSITIVE</td>\n",
       "      <td>0</td>\n",
       "      <td>1</td>\n",
       "      <td>0</td>\n",
       "      <td>0</td>\n",
       "      <td>19.899140</td>\n",
       "      <td>1.490000e-05</td>\n",
       "      <td>-1.490000e-05</td>\n",
       "      <td>175.850252</td>\n",
       "      <td>0.000581</td>\n",
       "      <td>...</td>\n",
       "      <td>-176</td>\n",
       "      <td>4.544</td>\n",
       "      <td>0.044</td>\n",
       "      <td>-0.176</td>\n",
       "      <td>0.868</td>\n",
       "      <td>0.233</td>\n",
       "      <td>-0.078</td>\n",
       "      <td>297.00482</td>\n",
       "      <td>48.134129</td>\n",
       "      <td>15.436</td>\n",
       "    </tr>\n",
       "    <tr>\n",
       "      <th>2</th>\n",
       "      <td>FALSE POSITIVE</td>\n",
       "      <td>0</td>\n",
       "      <td>1</td>\n",
       "      <td>0</td>\n",
       "      <td>0</td>\n",
       "      <td>1.736952</td>\n",
       "      <td>2.630000e-07</td>\n",
       "      <td>-2.630000e-07</td>\n",
       "      <td>170.307565</td>\n",
       "      <td>0.000115</td>\n",
       "      <td>...</td>\n",
       "      <td>-174</td>\n",
       "      <td>4.564</td>\n",
       "      <td>0.053</td>\n",
       "      <td>-0.168</td>\n",
       "      <td>0.791</td>\n",
       "      <td>0.201</td>\n",
       "      <td>-0.067</td>\n",
       "      <td>285.53461</td>\n",
       "      <td>48.285210</td>\n",
       "      <td>15.597</td>\n",
       "    </tr>\n",
       "    <tr>\n",
       "      <th>3</th>\n",
       "      <td>CONFIRMED</td>\n",
       "      <td>0</td>\n",
       "      <td>0</td>\n",
       "      <td>0</td>\n",
       "      <td>0</td>\n",
       "      <td>2.525592</td>\n",
       "      <td>3.760000e-06</td>\n",
       "      <td>-3.760000e-06</td>\n",
       "      <td>171.595550</td>\n",
       "      <td>0.001130</td>\n",
       "      <td>...</td>\n",
       "      <td>-211</td>\n",
       "      <td>4.438</td>\n",
       "      <td>0.070</td>\n",
       "      <td>-0.210</td>\n",
       "      <td>1.046</td>\n",
       "      <td>0.334</td>\n",
       "      <td>-0.133</td>\n",
       "      <td>288.75488</td>\n",
       "      <td>48.226200</td>\n",
       "      <td>15.509</td>\n",
       "    </tr>\n",
       "    <tr>\n",
       "      <th>4</th>\n",
       "      <td>CONFIRMED</td>\n",
       "      <td>0</td>\n",
       "      <td>0</td>\n",
       "      <td>0</td>\n",
       "      <td>0</td>\n",
       "      <td>4.134435</td>\n",
       "      <td>1.050000e-05</td>\n",
       "      <td>-1.050000e-05</td>\n",
       "      <td>172.979370</td>\n",
       "      <td>0.001900</td>\n",
       "      <td>...</td>\n",
       "      <td>-232</td>\n",
       "      <td>4.486</td>\n",
       "      <td>0.054</td>\n",
       "      <td>-0.229</td>\n",
       "      <td>0.972</td>\n",
       "      <td>0.315</td>\n",
       "      <td>-0.105</td>\n",
       "      <td>296.28613</td>\n",
       "      <td>48.224670</td>\n",
       "      <td>15.714</td>\n",
       "    </tr>\n",
       "  </tbody>\n",
       "</table>\n",
       "<p>5 rows × 41 columns</p>\n",
       "</div>"
      ],
      "text/plain": [
       "  koi_disposition  koi_fpflag_nt  koi_fpflag_ss  koi_fpflag_co  koi_fpflag_ec  \\\n",
       "0       CONFIRMED              0              0              0              0   \n",
       "1  FALSE POSITIVE              0              1              0              0   \n",
       "2  FALSE POSITIVE              0              1              0              0   \n",
       "3       CONFIRMED              0              0              0              0   \n",
       "4       CONFIRMED              0              0              0              0   \n",
       "\n",
       "   koi_period  koi_period_err1  koi_period_err2  koi_time0bk  \\\n",
       "0   54.418383     2.479000e-04    -2.479000e-04   162.513840   \n",
       "1   19.899140     1.490000e-05    -1.490000e-05   175.850252   \n",
       "2    1.736952     2.630000e-07    -2.630000e-07   170.307565   \n",
       "3    2.525592     3.760000e-06    -3.760000e-06   171.595550   \n",
       "4    4.134435     1.050000e-05    -1.050000e-05   172.979370   \n",
       "\n",
       "   koi_time0bk_err1  ...  koi_steff_err2  koi_slogg  koi_slogg_err1  \\\n",
       "0          0.003520  ...             -81      4.467           0.064   \n",
       "1          0.000581  ...            -176      4.544           0.044   \n",
       "2          0.000115  ...            -174      4.564           0.053   \n",
       "3          0.001130  ...            -211      4.438           0.070   \n",
       "4          0.001900  ...            -232      4.486           0.054   \n",
       "\n",
       "   koi_slogg_err2  koi_srad  koi_srad_err1  koi_srad_err2         ra  \\\n",
       "0          -0.096     0.927          0.105         -0.061  291.93423   \n",
       "1          -0.176     0.868          0.233         -0.078  297.00482   \n",
       "2          -0.168     0.791          0.201         -0.067  285.53461   \n",
       "3          -0.210     1.046          0.334         -0.133  288.75488   \n",
       "4          -0.229     0.972          0.315         -0.105  296.28613   \n",
       "\n",
       "         dec  koi_kepmag  \n",
       "0  48.141651      15.347  \n",
       "1  48.134129      15.436  \n",
       "2  48.285210      15.597  \n",
       "3  48.226200      15.509  \n",
       "4  48.224670      15.714  \n",
       "\n",
       "[5 rows x 41 columns]"
      ]
     },
     "execution_count": 2,
     "metadata": {},
     "output_type": "execute_result"
    }
   ],
   "source": [
    "#Reading csv and datacleanup\n",
    "df = pd.read_csv(\"exoplanet_data.csv\")\n",
    "# Drop the null columns where all values are null\n",
    "df = df.dropna(axis='columns', how='all')\n",
    "# Drop the null rows\n",
    "df = df.dropna()\n",
    "df.head()"
   ]
  },
  {
   "cell_type": "code",
   "execution_count": 3,
   "id": "540fb254",
   "metadata": {},
   "outputs": [],
   "source": [
    "# Set features to be used as x values.\n",
    "target = df['koi_disposition']\n",
    "data = df.drop('koi_disposition', axis=1)\n",
    "features = data.columns"
   ]
  },
  {
   "cell_type": "code",
   "execution_count": 4,
   "id": "02d4e68b",
   "metadata": {},
   "outputs": [],
   "source": [
    "#create train test split\n",
    "from sklearn.model_selection import train_test_split\n",
    "\n",
    "X_train, X_test, y_train, y_test = train_test_split(data, target, random_state=1)"
   ]
  },
  {
   "cell_type": "code",
   "execution_count": 5,
   "id": "eafb56fa",
   "metadata": {},
   "outputs": [],
   "source": [
    "from sklearn.preprocessing import MinMaxScaler\n",
    "\n",
    "# Scale your data\n",
    "X_scaler = MinMaxScaler().fit(X_train)\n",
    "\n",
    "#Transformation\n",
    "X_train_scaled = X_scaler.transform(X_train)\n",
    "X_test_scaled = X_scaler.transform(X_test)"
   ]
  },
  {
   "cell_type": "markdown",
   "id": "7a1a3980",
   "metadata": {},
   "source": [
    "# Logistic Regression"
   ]
  },
  {
   "cell_type": "code",
   "execution_count": 10,
   "id": "eeb4e1b7",
   "metadata": {},
   "outputs": [],
   "source": [
    "from sklearn.linear_model import LogisticRegression\n",
    "\n",
    "lr_classifier = LogisticRegression(solver='liblinear', max_iter = 100)"
   ]
  },
  {
   "cell_type": "code",
   "execution_count": 11,
   "id": "7ee26cb3",
   "metadata": {},
   "outputs": [
    {
     "data": {
      "text/plain": [
       "LogisticRegression(solver='liblinear')"
      ]
     },
     "execution_count": 11,
     "metadata": {},
     "output_type": "execute_result"
    }
   ],
   "source": [
    "#Fit model\n",
    "lr_classifier.fit(X_train_scaled, y_train)"
   ]
  },
  {
   "cell_type": "code",
   "execution_count": 12,
   "id": "5dc24847",
   "metadata": {},
   "outputs": [
    {
     "name": "stdout",
     "output_type": "stream",
     "text": [
      "Training Data Score: 0.8380698073621972\n",
      "Testing Data Score: 0.8558352402745996\n"
     ]
    }
   ],
   "source": [
    "#Score\n",
    "print(f\"Training Data Score: {lr_classifier.score(X_train_scaled, y_train)}\")\n",
    "print(f\"Testing Data Score: {lr_classifier.score(X_test_scaled, y_test)}\")"
   ]
  },
  {
   "cell_type": "markdown",
   "id": "e3799518",
   "metadata": {},
   "source": [
    "# Utilizing Grid Search to find best parameters"
   ]
  },
  {
   "cell_type": "code",
   "execution_count": 13,
   "id": "61b08806",
   "metadata": {},
   "outputs": [],
   "source": [
    "from sklearn.model_selection import GridSearchCV\n",
    "\n",
    "param_grid = {'C': [100, 10, 1.0, 0.1, 0.01],\n",
    "              'penalty': ['l1', 'l2'],\n",
    "             }\n",
    "\n",
    "grid = GridSearchCV(lr_classifier, param_grid, verbose=3)"
   ]
  },
  {
   "cell_type": "code",
   "execution_count": 16,
   "id": "1a4eb715",
   "metadata": {},
   "outputs": [
    {
     "name": "stdout",
     "output_type": "stream",
     "text": [
      "Fitting 5 folds for each of 10 candidates, totalling 50 fits\n",
      "[CV 1/5] END ..............................C=100, penalty=l1; total time=  15.3s\n",
      "[CV 2/5] END ..............................C=100, penalty=l1; total time=  24.2s\n",
      "[CV 3/5] END ..............................C=100, penalty=l1; total time=  28.1s\n",
      "[CV 4/5] END ..............................C=100, penalty=l1; total time=  16.6s\n",
      "[CV 5/5] END ..............................C=100, penalty=l1; total time=  14.7s\n",
      "[CV 1/5] END ..............................C=100, penalty=l2; total time=   0.3s\n",
      "[CV 2/5] END ..............................C=100, penalty=l2; total time=   0.3s\n",
      "[CV 3/5] END ..............................C=100, penalty=l2; total time=   0.2s\n",
      "[CV 4/5] END ..............................C=100, penalty=l2; total time=   0.3s\n",
      "[CV 5/5] END ..............................C=100, penalty=l2; total time=   0.2s\n",
      "[CV 1/5] END ...............................C=10, penalty=l1; total time=   3.0s\n",
      "[CV 2/5] END ...............................C=10, penalty=l1; total time=   3.9s\n",
      "[CV 3/5] END ...............................C=10, penalty=l1; total time=   4.4s\n",
      "[CV 4/5] END ...............................C=10, penalty=l1; total time=   4.5s\n",
      "[CV 5/5] END ...............................C=10, penalty=l1; total time=   5.3s\n",
      "[CV 1/5] END ...............................C=10, penalty=l2; total time=   0.1s\n",
      "[CV 2/5] END ...............................C=10, penalty=l2; total time=   0.1s\n",
      "[CV 3/5] END ...............................C=10, penalty=l2; total time=   0.1s\n",
      "[CV 4/5] END ...............................C=10, penalty=l2; total time=   0.1s\n",
      "[CV 5/5] END ...............................C=10, penalty=l2; total time=   0.1s\n",
      "[CV 1/5] END ..............................C=1.0, penalty=l1; total time=   0.4s\n",
      "[CV 2/5] END ..............................C=1.0, penalty=l1; total time=   0.2s\n",
      "[CV 3/5] END ..............................C=1.0, penalty=l1; total time=   0.4s\n",
      "[CV 4/5] END ..............................C=1.0, penalty=l1; total time=   0.5s\n",
      "[CV 5/5] END ..............................C=1.0, penalty=l1; total time=   0.4s\n",
      "[CV 1/5] END ..............................C=1.0, penalty=l2; total time=   0.1s\n",
      "[CV 2/5] END ..............................C=1.0, penalty=l2; total time=   0.1s\n",
      "[CV 3/5] END ..............................C=1.0, penalty=l2; total time=   0.1s\n",
      "[CV 4/5] END ..............................C=1.0, penalty=l2; total time=   0.1s\n",
      "[CV 5/5] END ..............................C=1.0, penalty=l2; total time=   0.1s\n",
      "[CV 1/5] END ..............................C=0.1, penalty=l1; total time=   0.1s\n",
      "[CV 2/5] END ..............................C=0.1, penalty=l1; total time=   0.1s\n",
      "[CV 3/5] END ..............................C=0.1, penalty=l1; total time=   0.1s\n",
      "[CV 4/5] END ..............................C=0.1, penalty=l1; total time=   0.1s\n",
      "[CV 5/5] END ..............................C=0.1, penalty=l1; total time=   0.1s\n",
      "[CV 1/5] END ..............................C=0.1, penalty=l2; total time=   0.1s\n",
      "[CV 2/5] END ..............................C=0.1, penalty=l2; total time=   0.1s\n",
      "[CV 3/5] END ..............................C=0.1, penalty=l2; total time=   0.1s\n",
      "[CV 4/5] END ..............................C=0.1, penalty=l2; total time=   0.1s\n",
      "[CV 5/5] END ..............................C=0.1, penalty=l2; total time=   0.1s\n",
      "[CV 1/5] END .............................C=0.01, penalty=l1; total time=   0.1s\n",
      "[CV 2/5] END .............................C=0.01, penalty=l1; total time=   0.1s\n",
      "[CV 3/5] END .............................C=0.01, penalty=l1; total time=   0.1s\n",
      "[CV 4/5] END .............................C=0.01, penalty=l1; total time=   0.1s\n",
      "[CV 5/5] END .............................C=0.01, penalty=l1; total time=   0.1s\n",
      "[CV 1/5] END .............................C=0.01, penalty=l2; total time=   0.0s\n",
      "[CV 2/5] END .............................C=0.01, penalty=l2; total time=   0.0s\n",
      "[CV 3/5] END .............................C=0.01, penalty=l2; total time=   0.0s\n",
      "[CV 4/5] END .............................C=0.01, penalty=l2; total time=   0.0s\n",
      "[CV 5/5] END .............................C=0.01, penalty=l2; total time=   0.1s\n"
     ]
    },
    {
     "data": {
      "text/plain": [
       "GridSearchCV(estimator=LogisticRegression(solver='liblinear'),\n",
       "             param_grid={'C': [100, 10, 1.0, 0.1, 0.01],\n",
       "                         'penalty': ['l1', 'l2']},\n",
       "             verbose=3)"
      ]
     },
     "execution_count": 16,
     "metadata": {},
     "output_type": "execute_result"
    }
   ],
   "source": [
    "# Fit the model using the grid search estimator.\n",
    "grid.fit(X_train_scaled, y_train)"
   ]
  },
  {
   "cell_type": "code",
   "execution_count": 17,
   "id": "79c1b2b1",
   "metadata": {},
   "outputs": [
    {
     "name": "stdout",
     "output_type": "stream",
     "text": [
      "{'C': 100, 'penalty': 'l1'}\n"
     ]
    }
   ],
   "source": [
    "# List the best parameters for this datase\n",
    "print(grid.best_params_)"
   ]
  },
  {
   "cell_type": "code",
   "execution_count": 18,
   "id": "5450ae69",
   "metadata": {},
   "outputs": [
    {
     "name": "stdout",
     "output_type": "stream",
     "text": [
      "0.8767854154083496\n"
     ]
    }
   ],
   "source": [
    "# List the best score\n",
    "print(grid.best_score_)"
   ]
  },
  {
   "cell_type": "code",
   "execution_count": 19,
   "id": "f05a6cff",
   "metadata": {},
   "outputs": [
    {
     "data": {
      "text/plain": [
       "array(['CONFIRMED', 'FALSE POSITIVE', 'FALSE POSITIVE', ...,\n",
       "       'FALSE POSITIVE', 'FALSE POSITIVE', 'CANDIDATE'], dtype=object)"
      ]
     },
     "execution_count": 19,
     "metadata": {},
     "output_type": "execute_result"
    }
   ],
   "source": [
    "# Make predictions with the hypertuned model\n",
    "predictions = grid.predict(X_test_scaled)\n",
    "predictions"
   ]
  },
  {
   "cell_type": "code",
   "execution_count": 20,
   "id": "4a1c73c4",
   "metadata": {},
   "outputs": [
    {
     "name": "stdout",
     "output_type": "stream",
     "text": [
      "                precision    recall  f1-score   support\n",
      "\n",
      "     CANDIDATE       0.87      0.67      0.75       404\n",
      "     CONFIRMED       0.74      0.89      0.81       435\n",
      "FALSE POSITIVE       0.99      1.00      0.99       909\n",
      "\n",
      "      accuracy                           0.89      1748\n",
      "     macro avg       0.87      0.85      0.85      1748\n",
      "  weighted avg       0.90      0.89      0.89      1748\n",
      "\n"
     ]
    }
   ],
   "source": [
    "# Calculate classification report\n",
    "# YOUR CODE HERE\n",
    "from sklearn.metrics import classification_report\n",
    "print(classification_report(y_test, predictions))"
   ]
  },
  {
   "cell_type": "code",
   "execution_count": 21,
   "id": "bd6d0d4b",
   "metadata": {},
   "outputs": [
    {
     "data": {
      "text/plain": [
       "['lr_model.sav']"
      ]
     },
     "execution_count": 21,
     "metadata": {},
     "output_type": "execute_result"
    }
   ],
   "source": [
    "#Save model\n",
    "import joblib\n",
    "filename = 'lr_model.sav'\n",
    "joblib.dump(lr_classifier, filename)"
   ]
  },
  {
   "cell_type": "code",
   "execution_count": null,
   "id": "3875e24d",
   "metadata": {},
   "outputs": [],
   "source": [
    "#loaded_model = joblib.load('lr_model.sav')\n",
    "#loaded_model.score()"
   ]
  }
 ],
 "metadata": {
  "kernelspec": {
   "display_name": "Python [conda env:PythonAdv] *",
   "language": "python",
   "name": "conda-env-PythonAdv-py"
  },
  "language_info": {
   "codemirror_mode": {
    "name": "ipython",
    "version": 3
   },
   "file_extension": ".py",
   "mimetype": "text/x-python",
   "name": "python",
   "nbconvert_exporter": "python",
   "pygments_lexer": "ipython3",
   "version": "3.6.13"
  }
 },
 "nbformat": 4,
 "nbformat_minor": 5
}
